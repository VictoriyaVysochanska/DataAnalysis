{
 "cells": [
  {
   "cell_type": "code",
   "execution_count": 1,
   "id": "80c64370",
   "metadata": {},
   "outputs": [],
   "source": [
    "import pandas as pd \n",
    "import numpy as np \n",
    "import matplotlib.pyplot as plt\n",
    "from sklearn.preprocessing import MinMaxScaler\n",
    "from sklearn.model_selection import train_test_split\n",
    "import tensorflow as tf\n",
    "from tensorflow import keras\n",
    "from tensorflow.keras import layers\n",
    "from tensorflow.keras.models import Sequential\n",
    "from tensorflow.keras.layers import Dense\n",
    "from tensorflow.keras.optimizers import SGD"
   ]
  },
  {
   "cell_type": "code",
   "execution_count": 2,
   "id": "93d7e98e",
   "metadata": {},
   "outputs": [
    {
     "data": {
      "text/html": [
       "<div>\n",
       "<style scoped>\n",
       "    .dataframe tbody tr th:only-of-type {\n",
       "        vertical-align: middle;\n",
       "    }\n",
       "\n",
       "    .dataframe tbody tr th {\n",
       "        vertical-align: top;\n",
       "    }\n",
       "\n",
       "    .dataframe thead th {\n",
       "        text-align: right;\n",
       "    }\n",
       "</style>\n",
       "<table border=\"1\" class=\"dataframe\">\n",
       "  <thead>\n",
       "    <tr style=\"text-align: right;\">\n",
       "      <th></th>\n",
       "      <th>Mean_Integrated</th>\n",
       "      <th>SD</th>\n",
       "      <th>EK</th>\n",
       "      <th>Skewness</th>\n",
       "      <th>Mean_DMSNR_Curve</th>\n",
       "      <th>SD_DMSNR_Curve</th>\n",
       "      <th>EK_DMSNR_Curve</th>\n",
       "      <th>Skewness_DMSNR_Curve</th>\n",
       "      <th>Class</th>\n",
       "    </tr>\n",
       "  </thead>\n",
       "  <tbody>\n",
       "    <tr>\n",
       "      <th>0</th>\n",
       "      <td>140.562500</td>\n",
       "      <td>55.683782</td>\n",
       "      <td>-0.234571</td>\n",
       "      <td>-0.699648</td>\n",
       "      <td>3.199833</td>\n",
       "      <td>19.110426</td>\n",
       "      <td>7.975532</td>\n",
       "      <td>74.242225</td>\n",
       "      <td>0</td>\n",
       "    </tr>\n",
       "    <tr>\n",
       "      <th>1</th>\n",
       "      <td>102.507812</td>\n",
       "      <td>58.882430</td>\n",
       "      <td>0.465318</td>\n",
       "      <td>-0.515088</td>\n",
       "      <td>1.677258</td>\n",
       "      <td>14.860146</td>\n",
       "      <td>10.576487</td>\n",
       "      <td>127.393580</td>\n",
       "      <td>0</td>\n",
       "    </tr>\n",
       "    <tr>\n",
       "      <th>2</th>\n",
       "      <td>103.015625</td>\n",
       "      <td>39.341649</td>\n",
       "      <td>0.323328</td>\n",
       "      <td>1.051164</td>\n",
       "      <td>3.121237</td>\n",
       "      <td>21.744669</td>\n",
       "      <td>7.735822</td>\n",
       "      <td>63.171909</td>\n",
       "      <td>0</td>\n",
       "    </tr>\n",
       "    <tr>\n",
       "      <th>3</th>\n",
       "      <td>136.750000</td>\n",
       "      <td>57.178449</td>\n",
       "      <td>-0.068415</td>\n",
       "      <td>-0.636238</td>\n",
       "      <td>3.642977</td>\n",
       "      <td>20.959280</td>\n",
       "      <td>6.896499</td>\n",
       "      <td>53.593661</td>\n",
       "      <td>0</td>\n",
       "    </tr>\n",
       "    <tr>\n",
       "      <th>4</th>\n",
       "      <td>88.726562</td>\n",
       "      <td>40.672225</td>\n",
       "      <td>0.600866</td>\n",
       "      <td>1.123492</td>\n",
       "      <td>1.178930</td>\n",
       "      <td>11.468720</td>\n",
       "      <td>14.269573</td>\n",
       "      <td>252.567306</td>\n",
       "      <td>0</td>\n",
       "    </tr>\n",
       "  </tbody>\n",
       "</table>\n",
       "</div>"
      ],
      "text/plain": [
       "   Mean_Integrated         SD        EK  Skewness  Mean_DMSNR_Curve  \\\n",
       "0       140.562500  55.683782 -0.234571 -0.699648          3.199833   \n",
       "1       102.507812  58.882430  0.465318 -0.515088          1.677258   \n",
       "2       103.015625  39.341649  0.323328  1.051164          3.121237   \n",
       "3       136.750000  57.178449 -0.068415 -0.636238          3.642977   \n",
       "4        88.726562  40.672225  0.600866  1.123492          1.178930   \n",
       "\n",
       "   SD_DMSNR_Curve  EK_DMSNR_Curve  Skewness_DMSNR_Curve  Class  \n",
       "0       19.110426        7.975532             74.242225      0  \n",
       "1       14.860146       10.576487            127.393580      0  \n",
       "2       21.744669        7.735822             63.171909      0  \n",
       "3       20.959280        6.896499             53.593661      0  \n",
       "4       11.468720       14.269573            252.567306      0  "
      ]
     },
     "execution_count": 2,
     "metadata": {},
     "output_type": "execute_result"
    }
   ],
   "source": [
    "df = pd.read_csv(\"D:/Labs/Pulsar.csv\",sep=\",\")\n",
    "df.head()"
   ]
  },
  {
   "cell_type": "code",
   "execution_count": 3,
   "id": "dfbf4d3f",
   "metadata": {},
   "outputs": [
    {
     "data": {
      "text/plain": [
       "(17898, 9)"
      ]
     },
     "execution_count": 3,
     "metadata": {},
     "output_type": "execute_result"
    }
   ],
   "source": [
    "minMaxScaler = MinMaxScaler()\n",
    "df_enc = pd.DataFrame(minMaxScaler.fit_transform(df))\n",
    "df_enc.shape"
   ]
  },
  {
   "cell_type": "code",
   "execution_count": 4,
   "id": "d5545af8",
   "metadata": {},
   "outputs": [],
   "source": [
    "x = df_enc\n",
    "y = pd.DataFrame(df['Class'],columns=['Class'])"
   ]
  },
  {
   "cell_type": "code",
   "execution_count": 5,
   "id": "939a72ba",
   "metadata": {},
   "outputs": [],
   "source": [
    "xTrain,xTest,yTrain,yTest = train_test_split(x,y,test_size = 0.3)\n",
    "yTrain = pd.get_dummies(data=yTrain,columns =['Class'])\n",
    "yTest = pd.get_dummies(data=yTest,columns =['Class'])"
   ]
  },
  {
   "cell_type": "code",
   "execution_count": 6,
   "id": "8334f4c0",
   "metadata": {},
   "outputs": [
    {
     "name": "stdout",
     "output_type": "stream",
     "text": [
      "Epoch 1/10\n",
      "392/392 [==============================] - 1s 2ms/step - loss: 0.2606 - accuracy: 0.9134 - val_loss: 0.1062 - val_accuracy: 0.9592\n",
      "Epoch 2/10\n",
      "392/392 [==============================] - 1s 2ms/step - loss: 0.0633 - accuracy: 0.9877 - val_loss: 0.0364 - val_accuracy: 0.9989\n",
      "Epoch 3/10\n",
      "392/392 [==============================] - 1s 2ms/step - loss: 0.0251 - accuracy: 0.9999 - val_loss: 0.0169 - val_accuracy: 1.0000\n",
      "Epoch 4/10\n",
      "392/392 [==============================] - 1s 2ms/step - loss: 0.0128 - accuracy: 1.0000 - val_loss: 0.0096 - val_accuracy: 1.0000\n",
      "Epoch 5/10\n",
      "392/392 [==============================] - 1s 2ms/step - loss: 0.0077 - accuracy: 1.0000 - val_loss: 0.0063 - val_accuracy: 1.0000\n",
      "Epoch 6/10\n",
      "392/392 [==============================] - 1s 2ms/step - loss: 0.0053 - accuracy: 1.0000 - val_loss: 0.0045 - val_accuracy: 1.0000\n",
      "Epoch 7/10\n",
      "392/392 [==============================] - 1s 2ms/step - loss: 0.0039 - accuracy: 1.0000 - val_loss: 0.0034 - val_accuracy: 1.0000\n",
      "Epoch 8/10\n",
      "392/392 [==============================] - 1s 2ms/step - loss: 0.0030 - accuracy: 1.0000 - val_loss: 0.0027 - val_accuracy: 1.0000\n",
      "Epoch 9/10\n",
      "392/392 [==============================] - 1s 2ms/step - loss: 0.0024 - accuracy: 1.0000 - val_loss: 0.0022 - val_accuracy: 1.0000\n",
      "Epoch 10/10\n",
      "392/392 [==============================] - 1s 2ms/step - loss: 0.0020 - accuracy: 1.0000 - val_loss: 0.0019 - val_accuracy: 1.0000\n"
     ]
    }
   ],
   "source": [
    "model_nn = keras.Sequential([keras.layers.Dense(20,kernel_initializer = 'he_uniform',input_shape=(9,),activation = 'relu'),\n",
    "                            keras.layers.Dense(30,kernel_initializer = 'he_uniform',activation = 'relu'),\n",
    "                            keras.layers.Dense(40,kernel_initializer = 'he_uniform',activation = 'relu'),\n",
    "                            keras.layers.Dense(2,kernel_initializer = 'glorot_uniform',activation = 'sigmoid'),\n",
    "                            ])\n",
    "\n",
    "model_nn.compile(loss = \"binary_crossentropy\",metrics = ['accuracy'],optimizer = 'SGD')\n",
    "history = model_nn.fit(xTrain,yTrain,validation_data = (xTest,yTest),epochs = 10)"
   ]
  },
  {
   "cell_type": "code",
   "execution_count": 7,
   "id": "594d00de",
   "metadata": {},
   "outputs": [
    {
     "data": {
      "image/png": "[encoded data removed]",
      "text/plain": [
       "<Figure size 432x288 with 1 Axes>"
      ]
     },
     "metadata": {
      "needs_background": "light"
     },
     "output_type": "display_data"
    }
   ],
   "source": [
    "plt.plot(history.history['loss'])\n",
    "plt.plot(history.history['val_loss'])\n",
    "plt.title('Model Performance')\n",
    "plt.ylabel('loss')\n",
    "plt.xlabel('epoch')\n",
    "plt.legend(['training_loss', 'validation_loss'], loc='upper right')\n",
    "plt.show()"
   ]
  },
  {
   "cell_type": "code",
   "execution_count": null,
   "id": "10217407",
   "metadata": {},
   "outputs": [],
   "source": []
  }
 ],
 "metadata": {
  "kernelspec": {
   "display_name": "Python 3",
   "language": "python",
   "name": "python3"
  },
  "language_info": {
   "codemirror_mode": {
    "name": "ipython",
    "version": 3
   },
   "file_extension": ".py",
   "mimetype": "text/x-python",
   "name": "python",
   "nbconvert_exporter": "python",
   "pygments_lexer": "ipython3",
   "version": "3.8.8"
  }
 },
 "nbformat": 4,
 "nbformat_minor": 5
}
