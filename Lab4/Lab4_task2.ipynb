{
 "cells": [
  {
   "cell_type": "code",
   "execution_count": 1,
   "id": "96c7cd1e",
   "metadata": {},
   "outputs": [],
   "source": [
    "from keras.datasets import cifar100\n",
    "from keras.models import Sequential\n",
    "from keras.layers import Dense, Dropout, Conv2D, MaxPool2D, Flatten\n",
    "from keras.utils import np_utils\n",
    "from sklearn.metrics import accuracy_score\n",
    "import matplotlib.pyplot as plt"
   ]
  },
  {
   "cell_type": "code",
   "execution_count": 4,
   "id": "fab99ea4",
   "metadata": {},
   "outputs": [],
   "source": [
    "(X_train, y_train), (X_test, y_test) = cifar100.load_data()\n",
    "\n",
    "assert X_train.shape == (50000, 32, 32, 3)\n",
    "assert X_test.shape == (10000, 32, 32, 3)\n",
    "assert y_train.shape == (50000, 1)\n",
    "assert y_test.shape == (10000, 1)"
   ]
  },
  {
   "cell_type": "code",
   "execution_count": 6,
   "id": "f724678f",
   "metadata": {},
   "outputs": [
    {
     "name": "stdout",
     "output_type": "stream",
     "text": [
      "Shape before one-hot encoding:  (50000, 1)\n",
      "Shape after one-hot encoding:  (50000, 100)\n"
     ]
    }
   ],
   "source": [
    "n_classes = 100\n",
    "print(\"Shape before one-hot encoding: \", y_train.shape)\n",
    "Y_train = np_utils.to_categorical(y_train, n_classes)\n",
    "Y_test = np_utils.to_categorical(y_test, n_classes)\n",
    "print(\"Shape after one-hot encoding: \", Y_train.shape)"
   ]
  },
  {
   "cell_type": "code",
   "execution_count": 9,
   "id": "763b6384",
   "metadata": {},
   "outputs": [
    {
     "name": "stdout",
     "output_type": "stream",
     "text": [
      "Epoch 1/10\n",
      "391/391 [==============================] - 53s 135ms/step - loss: 41.0070 - accuracy: 0.0434 - val_loss: 4.4860 - val_accuracy: 0.0624\n",
      "Epoch 2/10\n",
      "391/391 [==============================] - 54s 137ms/step - loss: 3.9934 - accuracy: 0.1264 - val_loss: 4.4538 - val_accuracy: 0.0816\n",
      "Epoch 3/10\n",
      "391/391 [==============================] - 66s 170ms/step - loss: 3.2898 - accuracy: 0.2490 - val_loss: 4.6376 - val_accuracy: 0.0904\n",
      "Epoch 4/10\n",
      "391/391 [==============================] - 69s 175ms/step - loss: 2.5550 - accuracy: 0.3992 - val_loss: 5.1136 - val_accuracy: 0.0919\n",
      "Epoch 5/10\n",
      "391/391 [==============================] - 71s 183ms/step - loss: 1.8846 - accuracy: 0.5615 - val_loss: 5.8539 - val_accuracy: 0.0954\n",
      "Epoch 6/10\n",
      "391/391 [==============================] - 69s 177ms/step - loss: 1.3543 - accuracy: 0.6924 - val_loss: 6.5988 - val_accuracy: 0.0947\n",
      "Epoch 7/10\n",
      "391/391 [==============================] - 72s 184ms/step - loss: 0.9764 - accuracy: 0.7833 - val_loss: 7.4010 - val_accuracy: 0.0960\n",
      "Epoch 8/10\n",
      "391/391 [==============================] - 72s 184ms/step - loss: 0.7412 - accuracy: 0.8389 - val_loss: 8.2970 - val_accuracy: 0.0980\n",
      "Epoch 9/10\n",
      "391/391 [==============================] - 70s 180ms/step - loss: 0.6132 - accuracy: 0.8694 - val_loss: 9.0421 - val_accuracy: 0.1012\n",
      "Epoch 10/10\n",
      "391/391 [==============================] - 65s 166ms/step - loss: 0.4928 - accuracy: 0.8954 - val_loss: 9.6576 - val_accuracy: 0.1006\n"
     ]
    }
   ],
   "source": [
    "model = Sequential()\n",
    "\n",
    "model.add(Conv2D(25, kernel_size=(3,3), strides=(1,1), padding='valid', activation='relu', input_shape=(32,32,3)))\n",
    "model.add(MaxPool2D(pool_size=(1,1)))\n",
    "model.add(Flatten())\n",
    "model.add(Dense(500, activation='relu'))\n",
    "model.add(Dense(100, activation='softmax'))\n",
    "\n",
    "model.compile(loss='categorical_crossentropy', metrics=['accuracy'], optimizer='adam')\n",
    "\n",
    "history = model.fit(X_train, Y_train, batch_size=128, epochs=10, validation_data=(X_test, Y_test))"
   ]
  },
  {
   "cell_type": "code",
   "execution_count": 10,
   "id": "f755ba34",
   "metadata": {},
   "outputs": [
    {
     "data": {
      "image/png": "[encoded data removed]",
      "text/plain": [
       "<Figure size 432x288 with 1 Axes>"
      ]
     },
     "metadata": {
      "needs_background": "light"
     },
     "output_type": "display_data"
    }
   ],
   "source": [
    "history_dict = history.history\n",
    "history_dict.keys()\n",
    "\n",
    "history_dict = history.history\n",
    "loss_values = history_dict[\"loss\"]\n",
    "val_loss_values = history_dict[\"val_loss\"]\n",
    "epochs = range(1, len(loss_values) + 1)\n",
    "plt.plot(epochs, loss_values, \"bo\", label=\"Training loss\")\n",
    "plt.plot(epochs, val_loss_values, \"b\", label=\"Validation loss\")\n",
    "plt.title(\"Training and validation loss\")\n",
    "plt.xlabel(\"Epochs\")\n",
    "plt.ylabel(\"Loss\")\n",
    "plt.legend()\n",
    "plt.show()"
   ]
  },
  {
   "cell_type": "code",
   "execution_count": null,
   "id": "395219f4",
   "metadata": {},
   "outputs": [],
   "source": []
  }
 ],
 "metadata": {
  "kernelspec": {
   "display_name": "Python 3",
   "language": "python",
   "name": "python3"
  },
  "language_info": {
   "codemirror_mode": {
    "name": "ipython",
    "version": 3
   },
   "file_extension": ".py",
   "mimetype": "text/x-python",
   "name": "python",
   "nbconvert_exporter": "python",
   "pygments_lexer": "ipython3",
   "version": "3.8.8"
  }
 },
 "nbformat": 4,
 "nbformat_minor": 5
}
